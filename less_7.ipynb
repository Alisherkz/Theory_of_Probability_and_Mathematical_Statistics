{
 "cells": [
  {
   "cell_type": "markdown",
   "metadata": {},
   "source": [
    "Даны значения величины заработной платы заемщиков банка (zp) и значения их поведенческого кредитного скоринга (ks): zp = [35, 45, 190, 200, 40, 70, 54, 150, 120, 110], ks = [401, 574, 874, 919, 459, 739, 653, 902, 746, 832]. Используя математические операции, посчитать коэффициенты линейной регрессии, приняв за X заработную плату (то есть, zp - признак), а за y - значения скорингового балла (то есть, ks - целевая переменная). Произвести расчет как с использованием intercept, так и без."
   ]
  },
  {
   "cell_type": "code",
   "execution_count": 5,
   "metadata": {},
   "outputs": [],
   "source": [
    "import numpy as np\n",
    "import seaborn as sn\n",
    "import matplotlib as mt\n",
    "\n",
    "x = np.array([35, 45, 190, 200, 40, 70, 54, 150, 120, 110])\n",
    "y = np.array([401, 574, 874, 919, 459, 739, 653, 902, 746, 832])\n",
    "n = len(x)"
   ]
  },
  {
   "cell_type": "code",
   "execution_count": 6,
   "metadata": {},
   "outputs": [
    {
     "data": {
      "text/plain": [
       "2.620538882402765"
      ]
     },
     "execution_count": 6,
     "metadata": {},
     "output_type": "execute_result"
    }
   ],
   "source": [
    "b = (np.mean(x*y) - np.mean(x) * np.mean(y)) / (np.mean(x**2) - np.mean(x)**2)\n",
    "b"
   ]
  },
  {
   "cell_type": "code",
   "execution_count": 8,
   "metadata": {},
   "outputs": [
    {
     "data": {
      "text/plain": [
       "444.1773573243596"
      ]
     },
     "execution_count": 8,
     "metadata": {},
     "output_type": "execute_result"
    }
   ],
   "source": [
    "a = np.mean(y) - b * np.mean(x)\n",
    "a"
   ]
  },
  {
   "cell_type": "markdown",
   "metadata": {},
   "source": [
    "Без инт"
   ]
  },
  {
   "cell_type": "code",
   "execution_count": 11,
   "metadata": {},
   "outputs": [],
   "source": [
    "x = x.reshape(10,1)\n",
    "y = y.reshape(10,1)"
   ]
  },
  {
   "cell_type": "code",
   "execution_count": 12,
   "metadata": {},
   "outputs": [
    {
     "data": {
      "text/plain": [
       "array([[5.88982042]])"
      ]
     },
     "execution_count": 12,
     "metadata": {},
     "output_type": "execute_result"
    }
   ],
   "source": [
    "b = np.dot(np.linalg.inv(np.dot(x.T,x)),x.T @ y)\n",
    "b"
   ]
  },
  {
   "cell_type": "markdown",
   "metadata": {},
   "source": [
    "С инт не смог сделать дает ошибку."
   ]
  },
  {
   "cell_type": "markdown",
   "metadata": {},
   "source": [
    "Посчитать коэффициент линейной регрессии при заработной плате (zp), используя градиентный спуск (без intercept). *3. Произвести вычисления как в пункте 2, но с вычислением intercept. Учесть, что изменение коэффициентов должно производиться на каждом шаге одновременно (то есть изменение одного коэффициента не должно влиять на изменение другого во время одной итерации)."
   ]
  },
  {
   "cell_type": "code",
   "execution_count": 18,
   "metadata": {},
   "outputs": [],
   "source": [
    "x = np.array([35, 45, 190, 200, 40, 70, 54, 150, 120, 110])\n",
    "y = np.array([401, 574, 874, 919, 459, 739, 653, 902, 746, 832])"
   ]
  },
  {
   "cell_type": "code",
   "execution_count": 37,
   "metadata": {},
   "outputs": [],
   "source": [
    "def mse(b1, y=y,x=x,n=10):\n",
    "    return np.sum((b1*x-y)**2) / n"
   ]
  },
  {
   "cell_type": "code",
   "execution_count": 38,
   "metadata": {},
   "outputs": [],
   "source": [
    "b1 = 0.1\n",
    "alp=1e-6"
   ]
  },
  {
   "cell_type": "code",
   "execution_count": 39,
   "metadata": {},
   "outputs": [
    {
     "name": "stdout",
     "output_type": "stream",
     "text": [
      "0, b1=0.1, mse = 518336.326\n",
      "5000, b1=0.1, mse = 518336.326\n"
     ]
    }
   ],
   "source": [
    "for i in range(10000):\n",
    "    w -=alp*(2/n)*np.sum(w*x-y)*x\n",
    "    if i % 5000==0:\n",
    "        print('{i}, b1={b1}, mse = {mse}'.format(i=i, b1=b1, mse=mse(b1)))"
   ]
  },
  {
   "cell_type": "code",
   "execution_count": 40,
   "metadata": {},
   "outputs": [],
   "source": [
    "b1 = 0.1\n",
    "b0 = 0.1\n",
    "\n",
    "def mse(b0,b1, y=y,x=x,n=10):\n",
    "    return np.sum(b0+b1*x-y)**x/n"
   ]
  },
  {
   "cell_type": "code",
   "execution_count": 41,
   "metadata": {
    "scrolled": false
   },
   "outputs": [
    {
     "name": "stderr",
     "output_type": "stream",
     "text": [
      "c:\\users\\alisher\\python\\lib\\site-packages\\ipykernel_launcher.py:5: RuntimeWarning: overflow encountered in power\n",
      "  \"\"\"\n"
     ]
    },
    {
     "name": "stdout",
     "output_type": "stream",
     "text": [
      "0,b0=0.10139932, b1=[0.1489762  0.1629694  0.3658708  0.379864   0.1559728  0.1979524\n",
      " 0.17556328 0.309898   0.2679184  0.2539252 ], mse=mse[-1.40061942e+133 -2.97742056e+171              inf              inf\n",
      "  2.04211485e+152  1.96173475e+267  9.30268296e+205              inf\n",
      "              inf              inf]\n",
      "300000,b0=0.1507824294507018, b1=[ 1.87738503  2.38520933  9.7486616  10.25648589  2.13129718  3.65477006\n",
      "  2.84225119  7.71736442  6.19389153  5.68606724], mse=mse[-0. -0.  0.  0.  0.  0.  0.  0.  0.  0.]\n",
      "600000,b0=0.1507824294507018, b1=[ 1.87738503  2.38520933  9.7486616  10.25648589  2.13129718  3.65477006\n",
      "  2.84225119  7.71736442  6.19389153  5.68606724], mse=mse[-0. -0.  0.  0.  0.  0.  0.  0.  0.  0.]\n",
      "900000,b0=0.1507824294507018, b1=[ 1.87738503  2.38520933  9.7486616  10.25648589  2.13129718  3.65477006\n",
      "  2.84225119  7.71736442  6.19389153  5.68606724], mse=mse[-0. -0.  0.  0.  0.  0.  0.  0.  0.  0.]\n",
      "1200000,b0=0.1507824294507018, b1=[ 1.87738503  2.38520933  9.7486616  10.25648589  2.13129718  3.65477006\n",
      "  2.84225119  7.71736442  6.19389153  5.68606724], mse=mse[-0. -0.  0.  0.  0.  0.  0.  0.  0.  0.]\n",
      "1500000,b0=0.1507824294507018, b1=[ 1.87738503  2.38520933  9.7486616  10.25648589  2.13129718  3.65477006\n",
      "  2.84225119  7.71736442  6.19389153  5.68606724], mse=mse[-0. -0.  0.  0.  0.  0.  0.  0.  0.  0.]\n",
      "1800000,b0=0.1507824294507018, b1=[ 1.87738503  2.38520933  9.7486616  10.25648589  2.13129718  3.65477006\n",
      "  2.84225119  7.71736442  6.19389153  5.68606724], mse=mse[-0. -0.  0.  0.  0.  0.  0.  0.  0.  0.]\n",
      "2100000,b0=0.1507824294507018, b1=[ 1.87738503  2.38520933  9.7486616  10.25648589  2.13129718  3.65477006\n",
      "  2.84225119  7.71736442  6.19389153  5.68606724], mse=mse[-0. -0.  0.  0.  0.  0.  0.  0.  0.  0.]\n",
      "2400000,b0=0.1507824294507018, b1=[ 1.87738503  2.38520933  9.7486616  10.25648589  2.13129718  3.65477006\n",
      "  2.84225119  7.71736442  6.19389153  5.68606724], mse=mse[-0. -0.  0.  0.  0.  0.  0.  0.  0.  0.]\n",
      "2700000,b0=0.1507824294507018, b1=[ 1.87738503  2.38520933  9.7486616  10.25648589  2.13129718  3.65477006\n",
      "  2.84225119  7.71736442  6.19389153  5.68606724], mse=mse[-0. -0.  0.  0.  0.  0.  0.  0.  0.  0.]\n",
      "3000000,b0=0.1507824294507018, b1=[ 1.87738503  2.38520933  9.7486616  10.25648589  2.13129718  3.65477006\n",
      "  2.84225119  7.71736442  6.19389153  5.68606724], mse=mse[-0. -0.  0.  0.  0.  0.  0.  0.  0.  0.]\n",
      "3300000,b0=0.1507824294507018, b1=[ 1.87738503  2.38520933  9.7486616  10.25648589  2.13129718  3.65477006\n",
      "  2.84225119  7.71736442  6.19389153  5.68606724], mse=mse[-0. -0.  0.  0.  0.  0.  0.  0.  0.  0.]\n"
     ]
    }
   ],
   "source": [
    "for i in range(3500000):\n",
    "    p = b0+b1*x\n",
    "    b0-=alp*(2/n)*np.sum(p-y)\n",
    "    b1-=alp*(2/n)*np.sum(p-y)*x\n",
    "    if i%300000==0:\n",
    "        print('{i},b0={b0}, b1={b1}, mse=mse{mse}'.format(i=i,b0=b0,b1=b1, mse=mse(b0,b1)))"
   ]
  },
  {
   "cell_type": "code",
   "execution_count": null,
   "metadata": {},
   "outputs": [],
   "source": []
  }
 ],
 "metadata": {
  "kernelspec": {
   "display_name": "Python 3",
   "language": "python",
   "name": "python3"
  },
  "language_info": {
   "codemirror_mode": {
    "name": "ipython",
    "version": 3
   },
   "file_extension": ".py",
   "mimetype": "text/x-python",
   "name": "python",
   "nbconvert_exporter": "python",
   "pygments_lexer": "ipython3",
   "version": "3.6.5"
  }
 },
 "nbformat": 4,
 "nbformat_minor": 4
}
